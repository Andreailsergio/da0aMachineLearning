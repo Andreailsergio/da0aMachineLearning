{
 "cells": [
  {
   "cell_type": "markdown",
   "metadata": {},
   "source": [
    "# 11 Python Built-in Functions You Should Know\n",
    "## Christopher Tao @TDataScience\n",
    "https://towardsdatascience.com/11-python-built-in-functions-you-should-know-877a2c2139db"
   ]
  },
  {
   "cell_type": "code",
   "execution_count": 1,
   "metadata": {},
   "outputs": [
    {
     "name": "stdout",
     "output_type": "stream",
     "text": [
      "True\n",
      "False\n",
      "True\n",
      "False\n"
     ]
    }
   ],
   "source": [
    "# 01\n",
    "# All() Any() --- test di condizioni / valori booleani multipli in AND o OR\n",
    "\n",
    "print(all([True, True, True])) #True\n",
    "print(all([True, True, False])) #False\n",
    "\n",
    "print(any([True, False, False])) #True\n",
    "print(any([False, False, False])) #False"
   ]
  },
  {
   "cell_type": "code",
   "execution_count": 3,
   "metadata": {},
   "outputs": [
    {
     "name": "stdout",
     "output_type": "stream",
     "text": [
      "True\n",
      "False\n"
     ]
    }
   ],
   "source": [
    "print(all([num % 2 == 0 for num in [2, 4, 6, 8, 10]]))\n",
    "print(all([num % 2 == 0 for num in [2, 4, 6, 8, 9]]))"
   ]
  },
  {
   "cell_type": "code",
   "execution_count": 6,
   "metadata": {},
   "outputs": [
    {
     "name": "stdout",
     "output_type": "stream",
     "text": [
      "¥3,000\n",
      "x × y\n",
      "165\n"
     ]
    }
   ],
   "source": [
    "# 02\n",
    "# dealing with UNICODE characters -- chr() ord() \n",
    "# https://en.wikipedia.org/wiki/List_of_Unicode_characters\n",
    "\n",
    "print(chr(165) + '3,000')\n",
    "print('x ' + chr(215) + ' y')\n",
    "\n",
    "# l'inverso\n",
    "print(ord('¥'))"
   ]
  },
  {
   "cell_type": "code",
   "execution_count": 9,
   "metadata": {},
   "outputs": [
    {
     "name": "stdout",
     "output_type": "stream",
     "text": [
      "['BooleanDtype', 'Categorical', 'CategoricalDtype', 'CategoricalIndex', 'DataFrame', 'DateOffset', 'DatetimeIndex', 'DatetimeTZDtype', 'ExcelFile', 'ExcelWriter', 'Float64Index', 'Grouper', 'HDFStore', 'Index', 'IndexSlice', 'Int16Dtype', 'Int32Dtype', 'Int64Dtype', 'Int64Index', 'Int8Dtype', 'Interval', 'IntervalDtype', 'IntervalIndex', 'MultiIndex', 'NA', 'NaT', 'NamedAgg', 'Period', 'PeriodDtype', 'PeriodIndex', 'RangeIndex', 'Series', 'SparseDtype', 'StringDtype', 'Timedelta', 'TimedeltaIndex', 'Timestamp', 'UInt16Dtype', 'UInt32Dtype', 'UInt64Dtype', 'UInt64Index', 'UInt8Dtype', '__builtins__', '__cached__', '__doc__', '__docformat__', '__file__', '__getattr__', '__git_version__', '__loader__', '__name__', '__package__', '__path__', '__spec__', '__version__', '_config', '_hashtable', '_is_numpy_dev', '_lib', '_libs', '_np_version_under1p14', '_np_version_under1p15', '_np_version_under1p16', '_np_version_under1p17', '_np_version_under1p18', '_testing', '_tslib', '_typing', '_version', 'api', 'array', 'arrays', 'bdate_range', 'compat', 'concat', 'core', 'crosstab', 'cut', 'date_range', 'describe_option', 'errors', 'eval', 'factorize', 'get_dummies', 'get_option', 'infer_freq', 'interval_range', 'io', 'isna', 'isnull', 'json_normalize', 'lreshape', 'melt', 'merge', 'merge_asof', 'merge_ordered', 'notna', 'notnull', 'offsets', 'option_context', 'options', 'pandas', 'period_range', 'pivot', 'pivot_table', 'plotting', 'qcut', 'read_clipboard', 'read_csv', 'read_excel', 'read_feather', 'read_fwf', 'read_gbq', 'read_hdf', 'read_html', 'read_json', 'read_orc', 'read_parquet', 'read_pickle', 'read_sas', 'read_spss', 'read_sql', 'read_sql_query', 'read_sql_table', 'read_stata', 'read_table', 'reset_option', 'set_eng_float_format', 'set_option', 'show_versions', 'test', 'testing', 'timedelta_range', 'to_datetime', 'to_numeric', 'to_pickle', 'to_timedelta', 'tseries', 'unique', 'util', 'value_counts', 'wide_to_long'] \n",
      "\n",
      "['__add__', '__class__', '__contains__', '__delattr__', '__delitem__', '__dir__', '__doc__', '__eq__', '__format__', '__ge__', '__getattribute__', '__getitem__', '__gt__', '__hash__', '__iadd__', '__imul__', '__init__', '__init_subclass__', '__iter__', '__le__', '__len__', '__lt__', '__mul__', '__ne__', '__new__', '__reduce__', '__reduce_ex__', '__repr__', '__reversed__', '__rmul__', '__setattr__', '__setitem__', '__sizeof__', '__str__', '__subclasshook__', 'append', 'clear', 'copy', 'count', 'extend', 'index', 'insert', 'pop', 'remove', 'reverse', 'sort']\n"
     ]
    }
   ],
   "source": [
    "# 03\n",
    "# The dir() function will simply show all the attributes & method names of an object [and everything in Python is an object]\n",
    "\n",
    "import pandas\n",
    "print(dir(pandas), '\\n')\n",
    "\n",
    "lista = ['a','b','c']\n",
    "print(dir(lista))"
   ]
  },
  {
   "cell_type": "code",
   "execution_count": 10,
   "metadata": {},
   "outputs": [
    {
     "name": "stdout",
     "output_type": "stream",
     "text": [
      "[(0, 'a'), (1, 'b'), (2, 'c')]\n",
      "index: 0, character: a\n",
      "index: 1, character: b\n",
      "index: 2, character: c\n"
     ]
    }
   ],
   "source": [
    "# 04\n",
    "# enumerate() restituisce un oggetto che aggiunge l'indice numerico degli item di un oggetto (ad es. una lista)\n",
    "\n",
    "print(list(enumerate(['a', 'b', 'c'])))\n",
    "\n",
    "for index, char in enumerate(['a', 'b', 'c']):\n",
    "    print(f'index: {index}, character: {char}')"
   ]
  },
  {
   "cell_type": "code",
   "execution_count": 11,
   "metadata": {},
   "outputs": [
    {
     "name": "stdout",
     "output_type": "stream",
     "text": [
      "5\n",
      "2\n"
     ]
    }
   ],
   "source": [
    "# 05\n",
    "# EVAL() esegue qualcosa in formato stringa come fosse codice python\n",
    "# eg. input math expressions as strings and calculate them returning the answer\n",
    "\n",
    "print(eval('3 + 2'))\n",
    "\n",
    "a = 1\n",
    "print(eval('a + 1'))"
   ]
  },
  {
   "cell_type": "code",
   "execution_count": 13,
   "metadata": {},
   "outputs": [
    {
     "name": "stdout",
     "output_type": "stream",
     "text": [
      "FILTRO I VALORI PARI IN [1,2,3,4,5,6,7,8]\n",
      "con filter():  [2, 4, 6, 8] \n",
      "\n",
      "con LIST COMPREHENSION:  [2, 4, 6, 8]\n"
     ]
    }
   ],
   "source": [
    "# 06\n",
    "# FILTRARE TRA I RISULTATI con filter()\n",
    "\n",
    "# is_even è una funzione che stabilisce se l'argomento è pari (restituendo True) o dispari (restituendo False)\n",
    "def is_even(num):\n",
    "    if num % 2 == 0:\n",
    "        return True\n",
    "    return False\n",
    "\n",
    "print('FILTRO I VALORI PARI IN [1,2,3,4,5,6,7,8]')\n",
    "# con filter() creo una lista filtrando i valori di un'altra lista in base alla funzione is_even\n",
    "# cioè prendo solo i valori PARI e li metto nella nuova lista f_even\n",
    "f_even = filter(is_even, [1,2,3,4,5,6,7,8])\n",
    "print('con filter(): ',list(f_even), '\\n')\n",
    "\n",
    "# più leggibile della LIST COMPREHENSION qui sotto, che fa la stessa cosa\n",
    "print('con LIST COMPREHENSION: ',[num for num in [1,2,3,4,5,6,7,8] if is_even(num)])"
   ]
  },
  {
   "cell_type": "code",
   "execution_count": 14,
   "metadata": {},
   "outputs": [
    {
     "name": "stdout",
     "output_type": "stream",
     "text": [
      "Help on built-in function eval in module builtins:\n",
      "\n",
      "eval(source, globals=None, locals=None, /)\n",
      "    Evaluate the given source in the context of globals and locals.\n",
      "    \n",
      "    The source may be a string representing a Python expression\n",
      "    or a code object as returned by compile().\n",
      "    The globals must be a dictionary and locals can be any mapping,\n",
      "    defaulting to the current globals and locals.\n",
      "    If only globals is given, locals defaults to it.\n",
      "\n",
      "None\n"
     ]
    }
   ],
   "source": [
    "# 07\n",
    "# help spiega i comandi\n",
    "\n",
    "print(help(eval))"
   ]
  },
  {
   "cell_type": "code",
   "execution_count": 15,
   "metadata": {},
   "outputs": [
    {
     "name": "stdout",
     "output_type": "stream",
     "text": [
      "123 \n",
      "\n",
      "{'__name__': '__main__', '__doc__': 'Automatically created module for IPython interactive environment', '__package__': None, '__loader__': None, '__spec__': None, '__builtin__': <module 'builtins' (built-in)>, '__builtins__': <module 'builtins' (built-in)>, '_ih': ['', '# All() Any() --- test di condizioni / valori booleani multipli in AND o OR\\n\\nprint(all([True, True, True]))\\nprint(all([True, True, False]))\\n\\nprint(any([True, False, False]))\\nprint(any([False, False, False]))', 'all([num % 2 == 0 for num in [2, 4, 6, 8, 10]])\\nall([num % 2 == 0 for num in [2, 4, 6, 8, 9]])', 'print(all([num % 2 == 0 for num in [2, 4, 6, 8, 10]]))\\nprint(all([num % 2 == 0 for num in [2, 4, 6, 8, 9]]))', \"# dealing with UNICODE characters -- chr() ord() \\n# https://en.wikipedia.org/wiki/List_of_Unicode_characters\\n\\nprint(chr(165) + '3,000')\\nprint('x ' + chr(215) + ' y')\\n\\n#print(ord())\", \"# dealing with UNICODE characters -- chr() ord() \\n# https://en.wikipedia.org/wiki/List_of_Unicode_characters\\n\\nprint(chr(165) + '3,000')\\nprint('x ' + chr(215) + ' y')\\n\\n# l'inverso\\nprint(ord(¥))\", \"# dealing with UNICODE characters -- chr() ord() \\n# https://en.wikipedia.org/wiki/List_of_Unicode_characters\\n\\nprint(chr(165) + '3,000')\\nprint('x ' + chr(215) + ' y')\\n\\n# l'inverso\\nprint(ord('¥'))\", \"# 03\\n# The dir() function will simply show all the attributes of an object [and everything in Python is an object]\\n\\nimport pandas\\nprint(dir(pandas))\\n\\nlista = ['a','b','c']\\nprint(dir(lista))\", \"# 03\\n# The dir() function will simply show all the attributes & method names of an object [and everything in Python is an object]\\n\\nimport pandas\\nprint(dir(pandas), '/n')\\n\\nlista = ['a','b','c']\\nprint(dir(lista))\", \"# 03\\n# The dir() function will simply show all the attributes & method names of an object [and everything in Python is an object]\\n\\nimport pandas\\nprint(dir(pandas), '\\\\n')\\n\\nlista = ['a','b','c']\\nprint(dir(lista))\", \"# 04\\n# enumerate() restituisce un oggetto che aggiunge l'indice numerico degli item di un oggetto (ad es. una lista)\\n\\nprint(list(enumerate(['a', 'b', 'c'])))\\n\\nfor index, char in enumerate(['a', 'b', 'c']):\\n    print(f'index: {index}, character: {char}')\", \"# 05\\n# EVAL() esegue qualcosa in formato stringa come fosse codice python\\n# eg. input math expressions as strings and calculate them returning the answer\\n\\nprint(eval('3 + 2'))\\n\\na = 1\\nprint(eval('a + 1'))\", \"# 06\\n# FILTRARE TRA I RISULTATI con filter()\\n\\n# is_even è una funzione che stabilisce se l'argomento è pari (restituendo True) o dispari (restituendo False)\\ndef is_even(num):\\n    if num % 2 == 0:\\n        return True\\n    return False\\n\\n# con filter() creo una lista filtrando i valori di un'altra lista in base alla funzione is_even\\n# cioè prendo solo i valori PARI e li metto nella nuova lista f_even\\nf_even = filter(is_even, [1,2,3,4,5,6,7,8])\\nprint(list(f_even), '\\\\n')\\n\\n# più leggibile della LIST COMPREHENSION qui sotto, che fa la stessa cosa\\nprint([num for num in [1,2,3,4,5,6,7,8] if is_even(num)])\", \"# 06\\n# FILTRARE TRA I RISULTATI con filter()\\n\\n# is_even è una funzione che stabilisce se l'argomento è pari (restituendo True) o dispari (restituendo False)\\ndef is_even(num):\\n    if num % 2 == 0:\\n        return True\\n    return False\\n\\nprint('FILTRO I VALORI PARI IN [1,2,3,4,5,6,7,8]')\\n# con filter() creo una lista filtrando i valori di un'altra lista in base alla funzione is_even\\n# cioè prendo solo i valori PARI e li metto nella nuova lista f_even\\nf_even = filter(is_even, [1,2,3,4,5,6,7,8])\\nprint('con filter(): ',list(f_even), '\\\\n')\\n\\n# più leggibile della LIST COMPREHENSION qui sotto, che fa la stessa cosa\\nprint('con LIST COMPREHENSION: ',[num for num in [1,2,3,4,5,6,7,8] if is_even(num)])\", '# 07\\n# help spiega i comandi\\n\\nprint(help(eval))', \"# 08\\n# locals() restituisce tutte le variabili definite in RAM nella corrente sessione Python\\n\\na = 123\\nprint(locals()['a'], '\\\\n') # specificamente la variabile a\\n\\nprint(locals()) # ritorna tutte le variabili definite\"], '_oh': {2: False}, '_dh': ['C:\\\\Users\\\\andrea_sergiacomi'], 'In': ['', '# All() Any() --- test di condizioni / valori booleani multipli in AND o OR\\n\\nprint(all([True, True, True]))\\nprint(all([True, True, False]))\\n\\nprint(any([True, False, False]))\\nprint(any([False, False, False]))', 'all([num % 2 == 0 for num in [2, 4, 6, 8, 10]])\\nall([num % 2 == 0 for num in [2, 4, 6, 8, 9]])', 'print(all([num % 2 == 0 for num in [2, 4, 6, 8, 10]]))\\nprint(all([num % 2 == 0 for num in [2, 4, 6, 8, 9]]))', \"# dealing with UNICODE characters -- chr() ord() \\n# https://en.wikipedia.org/wiki/List_of_Unicode_characters\\n\\nprint(chr(165) + '3,000')\\nprint('x ' + chr(215) + ' y')\\n\\n#print(ord())\", \"# dealing with UNICODE characters -- chr() ord() \\n# https://en.wikipedia.org/wiki/List_of_Unicode_characters\\n\\nprint(chr(165) + '3,000')\\nprint('x ' + chr(215) + ' y')\\n\\n# l'inverso\\nprint(ord(¥))\", \"# dealing with UNICODE characters -- chr() ord() \\n# https://en.wikipedia.org/wiki/List_of_Unicode_characters\\n\\nprint(chr(165) + '3,000')\\nprint('x ' + chr(215) + ' y')\\n\\n# l'inverso\\nprint(ord('¥'))\", \"# 03\\n# The dir() function will simply show all the attributes of an object [and everything in Python is an object]\\n\\nimport pandas\\nprint(dir(pandas))\\n\\nlista = ['a','b','c']\\nprint(dir(lista))\", \"# 03\\n# The dir() function will simply show all the attributes & method names of an object [and everything in Python is an object]\\n\\nimport pandas\\nprint(dir(pandas), '/n')\\n\\nlista = ['a','b','c']\\nprint(dir(lista))\", \"# 03\\n# The dir() function will simply show all the attributes & method names of an object [and everything in Python is an object]\\n\\nimport pandas\\nprint(dir(pandas), '\\\\n')\\n\\nlista = ['a','b','c']\\nprint(dir(lista))\", \"# 04\\n# enumerate() restituisce un oggetto che aggiunge l'indice numerico degli item di un oggetto (ad es. una lista)\\n\\nprint(list(enumerate(['a', 'b', 'c'])))\\n\\nfor index, char in enumerate(['a', 'b', 'c']):\\n    print(f'index: {index}, character: {char}')\", \"# 05\\n# EVAL() esegue qualcosa in formato stringa come fosse codice python\\n# eg. input math expressions as strings and calculate them returning the answer\\n\\nprint(eval('3 + 2'))\\n\\na = 1\\nprint(eval('a + 1'))\", \"# 06\\n# FILTRARE TRA I RISULTATI con filter()\\n\\n# is_even è una funzione che stabilisce se l'argomento è pari (restituendo True) o dispari (restituendo False)\\ndef is_even(num):\\n    if num % 2 == 0:\\n        return True\\n    return False\\n\\n# con filter() creo una lista filtrando i valori di un'altra lista in base alla funzione is_even\\n# cioè prendo solo i valori PARI e li metto nella nuova lista f_even\\nf_even = filter(is_even, [1,2,3,4,5,6,7,8])\\nprint(list(f_even), '\\\\n')\\n\\n# più leggibile della LIST COMPREHENSION qui sotto, che fa la stessa cosa\\nprint([num for num in [1,2,3,4,5,6,7,8] if is_even(num)])\", \"# 06\\n# FILTRARE TRA I RISULTATI con filter()\\n\\n# is_even è una funzione che stabilisce se l'argomento è pari (restituendo True) o dispari (restituendo False)\\ndef is_even(num):\\n    if num % 2 == 0:\\n        return True\\n    return False\\n\\nprint('FILTRO I VALORI PARI IN [1,2,3,4,5,6,7,8]')\\n# con filter() creo una lista filtrando i valori di un'altra lista in base alla funzione is_even\\n# cioè prendo solo i valori PARI e li metto nella nuova lista f_even\\nf_even = filter(is_even, [1,2,3,4,5,6,7,8])\\nprint('con filter(): ',list(f_even), '\\\\n')\\n\\n# più leggibile della LIST COMPREHENSION qui sotto, che fa la stessa cosa\\nprint('con LIST COMPREHENSION: ',[num for num in [1,2,3,4,5,6,7,8] if is_even(num)])\", '# 07\\n# help spiega i comandi\\n\\nprint(help(eval))', \"# 08\\n# locals() restituisce tutte le variabili definite in RAM nella corrente sessione Python\\n\\na = 123\\nprint(locals()['a'], '\\\\n') # specificamente la variabile a\\n\\nprint(locals()) # ritorna tutte le variabili definite\"], 'Out': {2: False}, 'get_ipython': <bound method InteractiveShell.get_ipython of <ipykernel.zmqshell.ZMQInteractiveShell object at 0x000001640A15C790>>, 'exit': <IPython.core.autocall.ZMQExitAutocall object at 0x000001640A1F48B0>, 'quit': <IPython.core.autocall.ZMQExitAutocall object at 0x000001640A1F48B0>, '_': False, '__': '', '___': '', '_i': '# 07\\n# help spiega i comandi\\n\\nprint(help(eval))', '_ii': \"# 06\\n# FILTRARE TRA I RISULTATI con filter()\\n\\n# is_even è una funzione che stabilisce se l'argomento è pari (restituendo True) o dispari (restituendo False)\\ndef is_even(num):\\n    if num % 2 == 0:\\n        return True\\n    return False\\n\\nprint('FILTRO I VALORI PARI IN [1,2,3,4,5,6,7,8]')\\n# con filter() creo una lista filtrando i valori di un'altra lista in base alla funzione is_even\\n# cioè prendo solo i valori PARI e li metto nella nuova lista f_even\\nf_even = filter(is_even, [1,2,3,4,5,6,7,8])\\nprint('con filter(): ',list(f_even), '\\\\n')\\n\\n# più leggibile della LIST COMPREHENSION qui sotto, che fa la stessa cosa\\nprint('con LIST COMPREHENSION: ',[num for num in [1,2,3,4,5,6,7,8] if is_even(num)])\", '_iii': \"# 06\\n# FILTRARE TRA I RISULTATI con filter()\\n\\n# is_even è una funzione che stabilisce se l'argomento è pari (restituendo True) o dispari (restituendo False)\\ndef is_even(num):\\n    if num % 2 == 0:\\n        return True\\n    return False\\n\\n# con filter() creo una lista filtrando i valori di un'altra lista in base alla funzione is_even\\n# cioè prendo solo i valori PARI e li metto nella nuova lista f_even\\nf_even = filter(is_even, [1,2,3,4,5,6,7,8])\\nprint(list(f_even), '\\\\n')\\n\\n# più leggibile della LIST COMPREHENSION qui sotto, che fa la stessa cosa\\nprint([num for num in [1,2,3,4,5,6,7,8] if is_even(num)])\", '_i1': '# All() Any() --- test di condizioni / valori booleani multipli in AND o OR\\n\\nprint(all([True, True, True]))\\nprint(all([True, True, False]))\\n\\nprint(any([True, False, False]))\\nprint(any([False, False, False]))', '_i2': 'all([num % 2 == 0 for num in [2, 4, 6, 8, 10]])\\nall([num % 2 == 0 for num in [2, 4, 6, 8, 9]])', '_2': False, '_i3': 'print(all([num % 2 == 0 for num in [2, 4, 6, 8, 10]]))\\nprint(all([num % 2 == 0 for num in [2, 4, 6, 8, 9]]))', '_i4': \"# dealing with UNICODE characters -- chr() ord() \\n# https://en.wikipedia.org/wiki/List_of_Unicode_characters\\n\\nprint(chr(165) + '3,000')\\nprint('x ' + chr(215) + ' y')\\n\\n#print(ord())\", '_i5': \"# dealing with UNICODE characters -- chr() ord() \\n# https://en.wikipedia.org/wiki/List_of_Unicode_characters\\n\\nprint(chr(165) + '3,000')\\nprint('x ' + chr(215) + ' y')\\n\\n# l'inverso\\nprint(ord(¥))\", '_i6': \"# dealing with UNICODE characters -- chr() ord() \\n# https://en.wikipedia.org/wiki/List_of_Unicode_characters\\n\\nprint(chr(165) + '3,000')\\nprint('x ' + chr(215) + ' y')\\n\\n# l'inverso\\nprint(ord('¥'))\", '_i7': \"# 03\\n# The dir() function will simply show all the attributes of an object [and everything in Python is an object]\\n\\nimport pandas\\nprint(dir(pandas))\\n\\nlista = ['a','b','c']\\nprint(dir(lista))\", 'pandas': <module 'pandas' from 'C:\\\\Users\\\\andrea_sergiacomi\\\\anaconda3\\\\lib\\\\site-packages\\\\pandas\\\\__init__.py'>, 'lista': ['a', 'b', 'c'], '_i8': \"# 03\\n# The dir() function will simply show all the attributes & method names of an object [and everything in Python is an object]\\n\\nimport pandas\\nprint(dir(pandas), '/n')\\n\\nlista = ['a','b','c']\\nprint(dir(lista))\", '_i9': \"# 03\\n# The dir() function will simply show all the attributes & method names of an object [and everything in Python is an object]\\n\\nimport pandas\\nprint(dir(pandas), '\\\\n')\\n\\nlista = ['a','b','c']\\nprint(dir(lista))\", '_i10': \"# 04\\n# enumerate() restituisce un oggetto che aggiunge l'indice numerico degli item di un oggetto (ad es. una lista)\\n\\nprint(list(enumerate(['a', 'b', 'c'])))\\n\\nfor index, char in enumerate(['a', 'b', 'c']):\\n    print(f'index: {index}, character: {char}')\", 'index': 2, 'char': 'c', '_i11': \"# 05\\n# EVAL() esegue qualcosa in formato stringa come fosse codice python\\n# eg. input math expressions as strings and calculate them returning the answer\\n\\nprint(eval('3 + 2'))\\n\\na = 1\\nprint(eval('a + 1'))\", 'a': 123, '_i12': \"# 06\\n# FILTRARE TRA I RISULTATI con filter()\\n\\n# is_even è una funzione che stabilisce se l'argomento è pari (restituendo True) o dispari (restituendo False)\\ndef is_even(num):\\n    if num % 2 == 0:\\n        return True\\n    return False\\n\\n# con filter() creo una lista filtrando i valori di un'altra lista in base alla funzione is_even\\n# cioè prendo solo i valori PARI e li metto nella nuova lista f_even\\nf_even = filter(is_even, [1,2,3,4,5,6,7,8])\\nprint(list(f_even), '\\\\n')\\n\\n# più leggibile della LIST COMPREHENSION qui sotto, che fa la stessa cosa\\nprint([num for num in [1,2,3,4,5,6,7,8] if is_even(num)])\", 'is_even': <function is_even at 0x0000016407BDECA0>, 'f_even': <filter object at 0x000001644C238FA0>, '_i13': \"# 06\\n# FILTRARE TRA I RISULTATI con filter()\\n\\n# is_even è una funzione che stabilisce se l'argomento è pari (restituendo True) o dispari (restituendo False)\\ndef is_even(num):\\n    if num % 2 == 0:\\n        return True\\n    return False\\n\\nprint('FILTRO I VALORI PARI IN [1,2,3,4,5,6,7,8]')\\n# con filter() creo una lista filtrando i valori di un'altra lista in base alla funzione is_even\\n# cioè prendo solo i valori PARI e li metto nella nuova lista f_even\\nf_even = filter(is_even, [1,2,3,4,5,6,7,8])\\nprint('con filter(): ',list(f_even), '\\\\n')\\n\\n# più leggibile della LIST COMPREHENSION qui sotto, che fa la stessa cosa\\nprint('con LIST COMPREHENSION: ',[num for num in [1,2,3,4,5,6,7,8] if is_even(num)])\", '_i14': '# 07\\n# help spiega i comandi\\n\\nprint(help(eval))', '_i15': \"# 08\\n# locals() restituisce tutte le variabili definite in RAM nella corrente sessione Python\\n\\na = 123\\nprint(locals()['a'], '\\\\n') # specificamente la variabile a\\n\\nprint(locals()) # ritorna tutte le variabili definite\"}\n"
     ]
    }
   ],
   "source": [
    "# 08\n",
    "# locals() restituisce tutte le variabili definite in RAM nella corrente sessione Python\n",
    "\n",
    "a = 123\n",
    "print(locals()['a'], '\\n') # specificamente la variabile a\n",
    "\n",
    "print(locals()) # ritorna tutte le variabili finora definite in JUPITER"
   ]
  },
  {
   "cell_type": "code",
   "execution_count": 16,
   "metadata": {},
   "outputs": [
    {
     "name": "stdout",
     "output_type": "stream",
     "text": [
      "[1, 2, 3, 4, 5, 6, 7, 8, 9]\n",
      "[1, 3, 5, 7, 9]\n",
      "siamo nel giro 1°\n",
      "siamo nel giro 2°\n",
      "siamo nel giro 3°\n",
      "siamo nel giro 4°\n",
      "siamo nel giro 5°\n",
      "siamo nel giro 6°\n",
      "siamo nel giro 7°\n",
      "siamo nel giro 8°\n",
      "siamo nel giro 9°\n"
     ]
    }
   ],
   "source": [
    "# 09\n",
    "# La funzione range() genera una lista di numberi basata su numero iniziale, numero finale ed eventualmente lo step\n",
    "# NUMPY OFFRE CARATTERISTICHE ANCORA PIU' COMPLESSE, MA RANGE E' UNA FUNZIONE BUILT-IN\n",
    "\n",
    "print(list(range(1,10)))\n",
    "print(list(range(1,10, 2))) # con step 2\n",
    "# utile per creare loop\n",
    "for i in range(1,10):\n",
    "    print(f\"siamo nel giro {i}°\")"
   ]
  },
  {
   "cell_type": "code",
   "execution_count": 19,
   "metadata": {},
   "outputs": [
    {
     "name": "stdout",
     "output_type": "stream",
     "text": [
      "[1, 3, 34, 50, 100, 120]\n",
      "[5, 6, 7, 8, 9]\n"
     ]
    }
   ],
   "source": [
    "# 10\n",
    "# ORDINARE e INVERTIRE\n",
    "\n",
    "print(sorted([100, 3, 50, 1, 120, 34]))\n",
    "print(list(reversed([9, 8, 7, 6, 5])))"
   ]
  },
  {
   "cell_type": "code",
   "execution_count": 20,
   "metadata": {},
   "outputs": [
    {
     "name": "stdout",
     "output_type": "stream",
     "text": [
      "1 a\n",
      "2 b\n",
      "3 c\n",
      "Help on class zip in module builtins:\n",
      "\n",
      "class zip(object)\n",
      " |  zip(*iterables) --> zip object\n",
      " |  \n",
      " |  Return a zip object whose .__next__() method returns a tuple where\n",
      " |  the i-th element comes from the i-th iterable argument.  The .__next__()\n",
      " |  method continues until the shortest iterable in the argument sequence\n",
      " |  is exhausted and then it raises StopIteration.\n",
      " |  \n",
      " |  Methods defined here:\n",
      " |  \n",
      " |  __getattribute__(self, name, /)\n",
      " |      Return getattr(self, name).\n",
      " |  \n",
      " |  __iter__(self, /)\n",
      " |      Implement iter(self).\n",
      " |  \n",
      " |  __next__(self, /)\n",
      " |      Implement next(self).\n",
      " |  \n",
      " |  __reduce__(...)\n",
      " |      Return state information for pickling.\n",
      " |  \n",
      " |  ----------------------------------------------------------------------\n",
      " |  Static methods defined here:\n",
      " |  \n",
      " |  __new__(*args, **kwargs) from builtins.type\n",
      " |      Create and return a new object.  See help(type) for accurate signature.\n",
      "\n"
     ]
    }
   ],
   "source": [
    "# 11\n",
    "# ZIP() created for easily iterating the elements from two lists correspondingly\n",
    "# per approfondimenti https://towardsdatascience.com/fasten-python-objects-using-zip-88a1e7a68c7\n",
    "\n",
    "for num, letter in zip([1, 2, 3], ['a', 'b', 'c']):\n",
    "    print(num, letter)\n",
    "    \n",
    "help(zip)"
   ]
  },
  {
   "cell_type": "markdown",
   "metadata": {},
   "source": [
    "### other useful articles (few lines of Python code)\n",
    "\n",
    "- 3 Lines of Python Code to Create An Interactive COVID-19 Bubble Map https://towardsdatascience.com/3-lines-of-python-code-to-create-an-interactive-playable-covid-19-bubble-map-74807939e887\n",
    "- Three “Out-of-Box” Web Content Scraping Applications in Python https://towardsdatascience.com/three-out-of-box-web-content-scraping-applications-in-python-e342a6836ba4\n",
    "- 1 Line of Python Code Scraping Dataset from Webpages https://towardsdatascience.com/a-single-line-of-python-code-scraping-dataset-from-webpages-c9d2a8805d61\n",
    "- 3 Lines of Python Code to Write A Web Server https://towardsdatascience.com/3-lines-of-python-code-to-write-a-web-server-46a109666dbf\n",
    "- 1 Line of Code to Interchange Between Python Objects and JSON https://towardsdatascience.com/single-line-of-code-to-interchange-between-python-objects-and-json-b0f23fbaaa65\n",
    "- 2 Lines of Python Code to Edit Photos https://towardsdatascience.com/2-lines-of-python-code-to-edit-photos-187dc76a84c5\n",
    "- 1 Line of Python Code To Help You Understand An Article https://towardsdatascience.com/one-line-of-python-code-to-help-you-understand-an-article-c8aacab33dcb"
   ]
  },
  {
   "cell_type": "markdown",
   "metadata": {},
   "source": [
    "### EXTRA: the Walrus operator := (introdotto in PYTHON 3.8)"
   ]
  },
  {
   "cell_type": "code",
   "execution_count": 21,
   "metadata": {},
   "outputs": [
    {
     "name": "stdout",
     "output_type": "stream",
     "text": [
      "15\n"
     ]
    }
   ],
   "source": [
    "# THE WALRUS OPERATOR := \n",
    "# https://towardsdatascience.com/the-walrus-operator-in-python-a315e4f84583\n",
    "# assegna e ritorna valore variabile in un'unica operazione\n",
    "\n",
    "print(num := 15)\n",
    "\n",
    "# print(num = 15) restituirebbe TypeError --- andrebbe fatto prima num = 15 e poi print(num)"
   ]
  },
  {
   "cell_type": "code",
   "execution_count": 22,
   "metadata": {},
   "outputs": [
    {
     "name": "stdin",
     "output_type": "stream",
     "text": [
      "Please enter something: 1\n"
     ]
    },
    {
     "name": "stdout",
     "output_type": "stream",
     "text": [
      "Nice!\n"
     ]
    },
    {
     "name": "stdin",
     "output_type": "stream",
     "text": [
      "Please enter something: ciao!\n"
     ]
    },
    {
     "name": "stdout",
     "output_type": "stream",
     "text": [
      "Nice!\n"
     ]
    },
    {
     "name": "stdin",
     "output_type": "stream",
     "text": [
      "Please enter something: \n"
     ]
    },
    {
     "name": "stdout",
     "output_type": "stream",
     "text": [
      "non hai inserito nulla, finiamola qui\n"
     ]
    }
   ],
   "source": [
    "while (value := input('Please enter something:') != ''):\n",
    "    print('Nice!')\n",
    "print('non hai inserito nulla, finiamola qui')"
   ]
  },
  {
   "cell_type": "code",
   "execution_count": 24,
   "metadata": {},
   "outputs": [
    {
     "name": "stdout",
     "output_type": "stream",
     "text": [
      "[1, 8]\n",
      "[1, 8]\n"
     ]
    }
   ],
   "source": [
    "# utile per efficienza computazionale\n",
    "\n",
    "# FUNZIONE POTENZA ALLA TERZA (CUBO)\n",
    "def cube(num):\n",
    "    return num**3\n",
    "\n",
    "num_list=[1,2,3,4,5]\n",
    "\n",
    "# cerco i risultati al cubo dei numeri della lista che siano minori di 20 (cioè 1 e 8)\n",
    "\n",
    "# senza walrus devo richiamare la funzione cube() 2 volte\n",
    "print([cube(x) for x in num_list if cube(x) < 20])\n",
    "\n",
    "# col walrus una volta sola\n",
    "print([y for x in num_list if (y := cube(x)) < 20])"
   ]
  }
 ],
 "metadata": {
  "kernelspec": {
   "display_name": "Python 3",
   "language": "python",
   "name": "python3"
  },
  "language_info": {
   "codemirror_mode": {
    "name": "ipython",
    "version": 3
   },
   "file_extension": ".py",
   "mimetype": "text/x-python",
   "name": "python",
   "nbconvert_exporter": "python",
   "pygments_lexer": "ipython3",
   "version": "3.8.3"
  }
 },
 "nbformat": 4,
 "nbformat_minor": 4
}
