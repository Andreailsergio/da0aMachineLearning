{
 "cells": [
  {
   "cell_type": "markdown",
   "metadata": {},
   "source": [
    "# Python da Zero a Machine Learning\n",
    "Questo corso del prof. Andrea Pollini mostrerà attività relative a [Python](https://www.python.org/) e al Machine Learning, partendo da 0 e procedendo passo passo. Utilizzeremo [Jupiter Lab](http://jupiterlab.io/) come ambiente di lavoro.\n",
    "\n",
    "Qui la prima puntata del corso su youtube https://m.youtube.com/watch?v=WK03M1ATxC0&feature=youtu.be"
   ]
  },
  {
   "cell_type": "markdown",
   "metadata": {},
   "source": [
    "## COMANDI JUPITER\n",
    "cancelletto # CREA TITOLO di primo livello ## Titolo di secondo livello etc.\n",
    "\n",
    "devo lasciare una riga vuota per andare a capo riga\n",
    "\n",
    "CTRL+invio passa da editing a modalità vista contenuto cella / shift+invio crea nuova cella sotto\n",
    "\n",
    "parentesi quadre sulla descrizione e poi tonde attaccate con url crea hyperlink [descrizione](http://localhost/)\n",
    "\n",
    "le celle possono essere spostate (trascinandole in LAB o col comando edit->move) / possono essere di tipo MARKDOWN (testi) o CODE (codice) o RAW"
   ]
  },
  {
   "cell_type": "raw",
   "metadata": {
    "raw_mimetype": "text/html"
   },
   "source": [
    "<img src=\"http://localhost:8889/notebooks/img/prompt_JupiterNotebook(Anaconda).png\">"
   ]
  },
  {
   "cell_type": "markdown",
   "metadata": {},
   "source": [
    "il presente jupiter notebook \"00intro_Da0AMachineLearning_Python_Pollini.ipynb\" si trova in C:\\Users\\andrea_sergiacomi"
   ]
  },
  {
   "cell_type": "markdown",
   "metadata": {},
   "source": [
    "## Sommario\n",
    "\n",
    "- Introduzione a Python\n",
    "\n",
    "questo è per lanciare il notebook su browser http://localhost:8888/?token=a2d1b86dbdfab1ff9c9982946b08a3594cfc5bcc7ea3f6db"
   ]
  },
  {
   "cell_type": "markdown",
   "metadata": {},
   "source": [
    "# Python come calcolatrice\n",
    "il primo approccio a python è testare l'interprete utilizzandolo come una calcolatrice evoluta"
   ]
  },
  {
   "cell_type": "code",
   "execution_count": 3,
   "metadata": {},
   "outputs": [
    {
     "data": {
      "text/plain": [
       "4"
      ]
     },
     "execution_count": 3,
     "metadata": {},
     "output_type": "execute_result"
    }
   ],
   "source": [
    "2+2"
   ]
  },
  {
   "cell_type": "code",
   "execution_count": 5,
   "metadata": {},
   "outputs": [
    {
     "data": {
      "text/plain": [
       "6"
      ]
     },
     "execution_count": 5,
     "metadata": {},
     "output_type": "execute_result"
    }
   ],
   "source": [
    "3*2"
   ]
  },
  {
   "cell_type": "code",
   "execution_count": 9,
   "metadata": {},
   "outputs": [
    {
     "name": "stdout",
     "output_type": "stream",
     "text": [
      "4 6\n"
     ]
    }
   ],
   "source": [
    "print(2+2,3*2)"
   ]
  },
  {
   "cell_type": "code",
   "execution_count": 10,
   "metadata": {},
   "outputs": [
    {
     "data": {
      "text/plain": [
       "-1"
      ]
     },
     "execution_count": 10,
     "metadata": {},
     "output_type": "execute_result"
    }
   ],
   "source": [
    "2-3"
   ]
  },
  {
   "cell_type": "code",
   "execution_count": 11,
   "metadata": {},
   "outputs": [
    {
     "data": {
      "text/plain": [
       "1024"
      ]
     },
     "execution_count": 11,
     "metadata": {},
     "output_type": "execute_result"
    }
   ],
   "source": [
    "2**10 # commento: ** elevamento a potenza"
   ]
  },
  {
   "cell_type": "code",
   "execution_count": 12,
   "metadata": {},
   "outputs": [
    {
     "data": {
      "text/plain": [
       "0.6666666666666666"
      ]
     },
     "execution_count": 12,
     "metadata": {},
     "output_type": "execute_result"
    }
   ],
   "source": [
    "2/3"
   ]
  },
  {
   "cell_type": "code",
   "execution_count": 13,
   "metadata": {},
   "outputs": [
    {
     "data": {
      "text/plain": [
       "2"
      ]
     },
     "execution_count": 13,
     "metadata": {},
     "output_type": "execute_result"
    }
   ],
   "source": [
    "7//3 # solo il quoziente della divisione"
   ]
  },
  {
   "cell_type": "markdown",
   "metadata": {},
   "source": [
    "## Tipi di dati in Python\n",
    "esempi sui tipi di dati principali"
   ]
  },
  {
   "cell_type": "code",
   "execution_count": 14,
   "metadata": {},
   "outputs": [
    {
     "data": {
      "text/plain": [
       "2"
      ]
     },
     "execution_count": 14,
     "metadata": {},
     "output_type": "execute_result"
    }
   ],
   "source": [
    "2 # intero"
   ]
  },
  {
   "cell_type": "code",
   "execution_count": 15,
   "metadata": {},
   "outputs": [
    {
     "data": {
      "text/plain": [
       "2.34"
      ]
     },
     "execution_count": 15,
     "metadata": {},
     "output_type": "execute_result"
    }
   ],
   "source": [
    "2.34 #float (approssimazioni di numeri reali)"
   ]
  },
  {
   "cell_type": "code",
   "execution_count": 17,
   "metadata": {},
   "outputs": [
    {
     "name": "stdout",
     "output_type": "stream",
     "text": [
      "stringhe\n",
      "che vanno\n",
      "a capo\n"
     ]
    }
   ],
   "source": [
    "#stringhe\n",
    "\"ciao a tutti \\\" o ': rappresento un apice doppio o un apice singolo\"\n",
    "'bla bla bla'\n",
    "print(\"\"\"stringhe\n",
    "che vanno\n",
    "a capo\"\"\" )\n",
    "# senza usare \\n"
   ]
  },
  {
   "cell_type": "markdown",
   "metadata": {},
   "source": [
    "## Variabili in Python\n",
    "contenitori di valori"
   ]
  },
  {
   "cell_type": "code",
   "execution_count": null,
   "metadata": {},
   "outputs": [],
   "source": [
    "a = 2 # creo variabile e assegnando il valore 2 ne definisco il tipo (intero)\n",
    "print(a)\n",
    "a = \"pippo\" # la variabile in sè non ha tipo - che può cambiare in qualsiasi momento, essendo solo un contenitore"
   ]
  },
  {
   "cell_type": "markdown",
   "metadata": {},
   "source": [
    "### richiamare un metodo\n",
    "i metodi sono delle specie di funzioni associate a dei tipi di dati ed operano sul valore dell'oggetto che rappresentano"
   ]
  },
  {
   "cell_type": "code",
   "execution_count": 20,
   "metadata": {},
   "outputs": [
    {
     "data": {
      "text/plain": [
       "'PIPPO'"
      ]
     },
     "execution_count": 20,
     "metadata": {},
     "output_type": "execute_result"
    }
   ],
   "source": [
    "a.upper() # metodi dell'oggetto - lavorano sul contenuto della variabile"
   ]
  },
  {
   "cell_type": "code",
   "execution_count": 25,
   "metadata": {},
   "outputs": [
    {
     "ename": "AttributeError",
     "evalue": "'int' object has no attribute 'upper'",
     "output_type": "error",
     "traceback": [
      "\u001b[1;31m---------------------------------------------------------------------------\u001b[0m",
      "\u001b[1;31mAttributeError\u001b[0m                            Traceback (most recent call last)",
      "\u001b[1;32m<ipython-input-25-8f1132844eef>\u001b[0m in \u001b[0;36m<module>\u001b[1;34m\u001b[0m\n\u001b[0;32m      1\u001b[0m \u001b[0ma\u001b[0m\u001b[1;33m=\u001b[0m\u001b[1;36m3\u001b[0m\u001b[1;33m\u001b[0m\u001b[1;33m\u001b[0m\u001b[0m\n\u001b[1;32m----> 2\u001b[1;33m \u001b[0ma\u001b[0m\u001b[1;33m.\u001b[0m\u001b[0mupper\u001b[0m\u001b[1;33m(\u001b[0m\u001b[1;33m)\u001b[0m \u001b[1;31m#genera errore (non ha senso il maiuscolo di un numero)\u001b[0m\u001b[1;33m\u001b[0m\u001b[1;33m\u001b[0m\u001b[0m\n\u001b[0m\u001b[0;32m      3\u001b[0m \u001b[1;31m# dopo aver cancellato la prima riga a=3 devo comunque rieseguire in modo che a ritorni al valore pippo\u001b[0m\u001b[1;33m\u001b[0m\u001b[1;33m\u001b[0m\u001b[1;33m\u001b[0m\u001b[0m\n\u001b[0;32m      4\u001b[0m \u001b[1;31m# (altrimenti resta in memoria a come intero)\u001b[0m\u001b[1;33m\u001b[0m\u001b[1;33m\u001b[0m\u001b[1;33m\u001b[0m\u001b[0m\n",
      "\u001b[1;31mAttributeError\u001b[0m: 'int' object has no attribute 'upper'"
     ]
    }
   ],
   "source": [
    "a=3\n",
    "a.upper() #genera errore (non ha senso il maiuscolo di un numero)\n",
    "# dopo aver cancellato la prima riga a=3 devo comunque rieseguire in modo che a ritorni al valore pippo \n",
    "# (altrimenti resta in memoria a come intero)"
   ]
  },
  {
   "cell_type": "code",
   "execution_count": 28,
   "metadata": {},
   "outputs": [
    {
     "name": "stdout",
     "output_type": "stream",
     "text": [
      "pippo\n"
     ]
    }
   ],
   "source": [
    "a='PIPPO'\n",
    "print(a.lower())"
   ]
  },
  {
   "cell_type": "markdown",
   "metadata": {},
   "source": [
    "### lavorare con le variabili"
   ]
  },
  {
   "cell_type": "code",
   "execution_count": 30,
   "metadata": {},
   "outputs": [
    {
     "name": "stdout",
     "output_type": "stream",
     "text": [
      "5\n"
     ]
    }
   ],
   "source": [
    "b=2\n",
    "c=3\n",
    "print(b+c)"
   ]
  },
  {
   "cell_type": "code",
   "execution_count": 32,
   "metadata": {},
   "outputs": [
    {
     "ename": "NameError",
     "evalue": "name 'v' is not defined",
     "output_type": "error",
     "traceback": [
      "\u001b[1;31m---------------------------------------------------------------------------\u001b[0m",
      "\u001b[1;31mNameError\u001b[0m                                 Traceback (most recent call last)",
      "\u001b[1;32m<ipython-input-32-da78958c3a14>\u001b[0m in \u001b[0;36m<module>\u001b[1;34m\u001b[0m\n\u001b[1;32m----> 1\u001b[1;33m \u001b[0mprint\u001b[0m\u001b[1;33m(\u001b[0m\u001b[0mb\u001b[0m\u001b[1;33m+\u001b[0m\u001b[0mv\u001b[0m\u001b[1;33m)\u001b[0m \u001b[1;31m# v non è definita --> errore!\u001b[0m\u001b[1;33m\u001b[0m\u001b[1;33m\u001b[0m\u001b[0m\n\u001b[0m",
      "\u001b[1;31mNameError\u001b[0m: name 'v' is not defined"
     ]
    }
   ],
   "source": [
    "print(b+v) # v non è definita --> errore!\n",
    "# anche a+\"pippo\" darebbe errore TypeError: unsupported operand type(s) for +: 'int' and 'str'\n",
    "# \"pippo\"+2 da diverso TypeError: can only concatenate str (not \"int\") to str"
   ]
  },
  {
   "cell_type": "code",
   "execution_count": 34,
   "metadata": {},
   "outputs": [
    {
     "name": "stdout",
     "output_type": "stream",
     "text": [
      "6\n"
     ]
    }
   ],
   "source": [
    "print(b+4)"
   ]
  },
  {
   "cell_type": "code",
   "execution_count": 37,
   "metadata": {},
   "outputs": [
    {
     "name": "stdout",
     "output_type": "stream",
     "text": [
      "PlutoPaperino\n",
      "********************************************************************************************************************************************************************************************************\n"
     ]
    }
   ],
   "source": [
    "print(\"Pluto\"+\"Paperino\") # + somma interi ma anche concatena stringhe\n",
    "print(\"*\"*200)"
   ]
  },
  {
   "cell_type": "markdown",
   "metadata": {},
   "source": [
    "### input dell'utente\n",
    "\n",
    "come faccio a chiedere all'utente dei dati su cui lavorare?"
   ]
  },
  {
   "cell_type": "code",
   "execution_count": 45,
   "metadata": {},
   "outputs": [
    {
     "name": "stdout",
     "output_type": "stream",
     "text": [
      ">12\n",
      "hai inserito il valore 12\n",
      "3 più 12 fa 16\n"
     ]
    }
   ],
   "source": [
    "var = input(\">\")\n",
    "print(\"hai inserito il valore\", var)\n",
    "# attenzione var inserita da tastiera è una stringa - anche se inserisco una cifra\n",
    "print(\"3 più\",var,\"fa\",int(var)+4)\n",
    "# se inserissi da tastiera una stringa 'testo' non convertibile in intero otterrei errore \n",
    "# ValueError: invalid literal for int() with base 10: 'testo'\n",
    "# se inserissi il float 3.14 il risultato di 3.14+4 sarebbe 7.14000000000001 (errore di approssimazione)"
   ]
  },
  {
   "cell_type": "markdown",
   "metadata": {},
   "source": [
    "## I costrutti del linguaggio Python\n",
    "\n",
    "con riferimento al teorema di Corrado Böhm e Giuseppe Jacopini: qualunque algoritmo può essere implementato in fase di programmazione (in diagramma di flusso, pseudocodice o codice sorgente) utilizzando tre sole strutture di controllo: la sequenza, la selezione ed il ciclo (iterazione), da applicare ricorsivamente alla composizione di istruzioni elementari (ad esempio, istruzioni eseguibili con il modello di base della macchina di Turing).\n",
    "\n",
    "### sequenza\n",
    "\n",
    "La sequenza o blocco è la normale elencazione di istruzioni perché vengano eseguite una di seguito all'altra nell'ordine in cui sono state scritte dal programmatore\n",
    "ad es. "
   ]
  },
  {
   "cell_type": "code",
   "execution_count": 54,
   "metadata": {},
   "outputs": [
    {
     "name": "stdout",
     "output_type": "stream",
     "text": [
      "3\n"
     ]
    }
   ],
   "source": [
    "a = 1\n",
    "b = 2\n",
    "c = a + b\n",
    "print(c)"
   ]
  },
  {
   "cell_type": "markdown",
   "metadata": {},
   "source": [
    "### selezione\n",
    "\n",
    "(o condizionale) si verifica ogni volta che scegliamo un percorso anziché un altro"
   ]
  },
  {
   "cell_type": "code",
   "execution_count": 47,
   "metadata": {},
   "outputs": [
    {
     "name": "stdout",
     "output_type": "stream",
     "text": [
      "a è positivo\n"
     ]
    }
   ],
   "source": [
    "a = 1\n",
    "if a == 0: # occhio alla differenza tra assegnazione = e confronto == (altrimenti errore di sintax)\n",
    "    print(\"a vale zero\")\n",
    "elif a > 0:\n",
    "    print(\"a è positivo\")\n",
    "else:\n",
    "    print(\"a è negativo\")"
   ]
  },
  {
   "cell_type": "markdown",
   "metadata": {},
   "source": [
    "### iterazione\n",
    "\n",
    "il ciclo FOR"
   ]
  },
  {
   "cell_type": "code",
   "execution_count": 50,
   "metadata": {},
   "outputs": [
    {
     "name": "stdout",
     "output_type": "stream",
     "text": [
      "1\n",
      "-233\n",
      "34\n",
      "-2\n",
      "0\n"
     ]
    }
   ],
   "source": [
    "lista = [1,-233,34,-2,0]\n",
    "for elemento in lista:\n",
    "    print(elemento)"
   ]
  },
  {
   "cell_type": "markdown",
   "metadata": {},
   "source": [
    "il ciclo WHILE\n",
    "\n",
    "es. inserimento numeri interi fino a che non si inserisce 0 (dopodichè il programma termina)"
   ]
  },
  {
   "cell_type": "code",
   "execution_count": 96,
   "metadata": {},
   "outputs": [
    {
     "name": "stdout",
     "output_type": "stream",
     "text": [
      "inserire un numero: 2\n",
      "inserire un numero: 3\n",
      "inserire un numero: -2\n",
      "inserire un numero: -1234\n",
      "inserire un numero: 0\n",
      "end.\n"
     ]
    }
   ],
   "source": [
    "inserito_zero = False\n",
    "\n",
    "def is_zero(x):\n",
    "    return x==0\n",
    "\n",
    "while not inserito_zero:\n",
    "    x = int(input(\"inserire un numero: \"))\n",
    "    if is_zero(x):\n",
    "        inserito_zero = True\n",
    "print(\"end.\")"
   ]
  },
  {
   "cell_type": "markdown",
   "metadata": {},
   "source": [
    "### selezione + iterazione"
   ]
  },
  {
   "cell_type": "code",
   "execution_count": 55,
   "metadata": {},
   "outputs": [
    {
     "name": "stdout",
     "output_type": "stream",
     "text": [
      "elemento positivo o nullo 1\n",
      "elemento negativo -233\n",
      "elemento positivo o nullo 34\n",
      "elemento negativo -2\n",
      "elemento positivo o nullo 0\n",
      "ho finito\n"
     ]
    }
   ],
   "source": [
    "for y in lista:\n",
    "    if y>=0:\n",
    "        print(\"elemento positivo o nullo\",y)\n",
    "    else:\n",
    "        print(\"elemento negativo\",y)\n",
    "print(\"ho finito\")"
   ]
  },
  {
   "cell_type": "markdown",
   "metadata": {},
   "source": [
    "## Le Funzioni in Python\n",
    "\n",
    "un blocco di codice che può essere richiamato usando il nome e passandogli dei parametri\n",
    "\n",
    "evito di modificare tutti i punti del mio programma che utilizzano la funzione, se devo variarne la logica\n",
    "\n",
    "risparmio anche il numero di caratteri, dunque vado a migliorare la leggibilità del codice"
   ]
  },
  {
   "cell_type": "code",
   "execution_count": 56,
   "metadata": {},
   "outputs": [],
   "source": [
    "def funzione_utilissima(a,b):\n",
    "    return a+b"
   ]
  },
  {
   "cell_type": "code",
   "execution_count": 58,
   "metadata": {},
   "outputs": [
    {
     "data": {
      "text/plain": [
       "3"
      ]
     },
     "execution_count": 58,
     "metadata": {},
     "output_type": "execute_result"
    }
   ],
   "source": [
    "funzione_utilissima(1,2)"
   ]
  },
  {
   "cell_type": "code",
   "execution_count": 60,
   "metadata": {},
   "outputs": [
    {
     "data": {
      "text/plain": [
       "'12'"
      ]
     },
     "execution_count": 60,
     "metadata": {},
     "output_type": "execute_result"
    }
   ],
   "source": [
    "funzione_utilissima('1','2')"
   ]
  },
  {
   "cell_type": "code",
   "execution_count": 62,
   "metadata": {},
   "outputs": [
    {
     "ename": "TypeError",
     "evalue": "can only concatenate str (not \"int\") to str",
     "output_type": "error",
     "traceback": [
      "\u001b[1;31m---------------------------------------------------------------------------\u001b[0m",
      "\u001b[1;31mTypeError\u001b[0m                                 Traceback (most recent call last)",
      "\u001b[1;32m<ipython-input-62-d46c9164192d>\u001b[0m in \u001b[0;36m<module>\u001b[1;34m\u001b[0m\n\u001b[1;32m----> 1\u001b[1;33m \u001b[0mfunzione_utilissima\u001b[0m\u001b[1;33m(\u001b[0m\u001b[1;34m'1'\u001b[0m\u001b[1;33m,\u001b[0m\u001b[1;36m2\u001b[0m\u001b[1;33m)\u001b[0m \u001b[1;31m#errore mi dice in che modulo(funzione) si verifica e poi in che riga si verifica\u001b[0m\u001b[1;33m\u001b[0m\u001b[1;33m\u001b[0m\u001b[0m\n\u001b[0m",
      "\u001b[1;32m<ipython-input-56-49615e454d68>\u001b[0m in \u001b[0;36mfunzione_utilissima\u001b[1;34m(a, b)\u001b[0m\n\u001b[0;32m      1\u001b[0m \u001b[1;32mdef\u001b[0m \u001b[0mfunzione_utilissima\u001b[0m\u001b[1;33m(\u001b[0m\u001b[0ma\u001b[0m\u001b[1;33m,\u001b[0m\u001b[0mb\u001b[0m\u001b[1;33m)\u001b[0m\u001b[1;33m:\u001b[0m\u001b[1;33m\u001b[0m\u001b[1;33m\u001b[0m\u001b[0m\n\u001b[1;32m----> 2\u001b[1;33m     \u001b[1;32mreturn\u001b[0m \u001b[0ma\u001b[0m\u001b[1;33m+\u001b[0m\u001b[0mb\u001b[0m\u001b[1;33m\u001b[0m\u001b[1;33m\u001b[0m\u001b[0m\n\u001b[0m",
      "\u001b[1;31mTypeError\u001b[0m: can only concatenate str (not \"int\") to str"
     ]
    }
   ],
   "source": [
    "funzione_utilissima('1',2) #errore mi dice in che modulo(funzione) si verifica e poi in che riga si verifica"
   ]
  },
  {
   "cell_type": "code",
   "execution_count": 67,
   "metadata": {},
   "outputs": [
    {
     "name": "stdout",
     "output_type": "stream",
     "text": [
      "potenza(2,2,1)\n",
      "5\n",
      "potenza(2,3,1)\n",
      "9\n",
      "potenza(2,2,20)\n",
      "24\n"
     ]
    }
   ],
   "source": [
    "def potenza(x,e=2,coef=1): #se anche e, ovvero l'esponente non lo do per default vale 2 / tutti i facoltativi vanno in fondo\n",
    "    print(f\"potenza({x},{e},{coef})\") \n",
    "    # f string - introdotta di recente - è potente x descrivere comandi intervallati ai parametri \n",
    "    # (e richiamare funzioni dentro funzioni)\n",
    "    return x**e+coef\n",
    "\n",
    "print(potenza(2))\n",
    "print(potenza(2,e=3))\n",
    "print(potenza(2,coef=20)) \n",
    "# con più parametri opzionali il nome del parametro va specificato - non basta solo ordine di inserimento"
   ]
  },
  {
   "cell_type": "code",
   "execution_count": 75,
   "metadata": {},
   "outputs": [
    {
     "name": "stdout",
     "output_type": "stream",
     "text": [
      "1\n",
      "0\n",
      "-1 \n",
      "\n",
      "-1\n",
      "1\n",
      "1\n",
      "0\n",
      "-1\n",
      "fine lista\n"
     ]
    }
   ],
   "source": [
    "def positivo(x):\n",
    "    return x > 0\n",
    "\n",
    "def segno(x):\n",
    "    if positivo(x):\n",
    "        return 1\n",
    "    elif x == 0:\n",
    "        return 0\n",
    "    else:\n",
    "        return -1\n",
    "\n",
    "print(segno(100))\n",
    "print(segno(0))\n",
    "print(segno(-2),\"\\n\")\n",
    "\n",
    "l = [-1,5,78,0,-24]\n",
    "for y in l:\n",
    "    print(segno(y))\n",
    "print(\"fine lista\")"
   ]
  },
  {
   "cell_type": "markdown",
   "metadata": {},
   "source": [
    "## Liste e Dizionari in Python\n",
    "\n",
    "### liste"
   ]
  },
  {
   "cell_type": "code",
   "execution_count": 87,
   "metadata": {},
   "outputs": [
    {
     "name": "stdout",
     "output_type": "stream",
     "text": [
      "[]\n",
      "[2]\n",
      "[2, 'pippo', 45, 'paperino']\n",
      "[2, 'pippo', 45, 'paperino', 3] \n",
      "\n",
      "[2, 'pippo', 45, 'paperino']\n",
      "[2, 45, 'paperino'] \n",
      "\n",
      "(0, 2)\n",
      "(1, 45)\n",
      "(2, 'paperino')\n",
      "0 = 2\n",
      "1 = 45\n",
      "2 = paperino\n",
      "\n",
      "\n",
      "1\n",
      "3\n",
      "4\n",
      "7\n",
      "9\n",
      "[3, 1, 7, 4, 9]\n",
      "[1, 3, 4, 7, 9] \n",
      "\n"
     ]
    }
   ],
   "source": [
    "lista1 = []\n",
    "print(lista1)\n",
    "lista1.append(2)\n",
    "print(lista1)\n",
    "lista1.append(\"pippo\")\n",
    "lista1.append(45)\n",
    "lista1.append(\"paperino\")\n",
    "print(lista1)\n",
    "lista1.append(3)\n",
    "print(lista1,\"\\n\")\n",
    "\n",
    "lista1.pop() # cancello l'ultimo elemento inserito\n",
    "print(lista1)\n",
    "del lista1[1] # cancello il secondo elemento\n",
    "print(lista1,\"\\n\")\n",
    "\n",
    "for cont in enumerate(lista1):\n",
    "    # per stampare tuple posizione e valore\n",
    "    print(cont)\n",
    "for pos,val in enumerate(lista1):\n",
    "    # in modo più elegante\n",
    "    print(f\"{pos} = {val}\")\n",
    "print(\"\\n\")\n",
    "    \n",
    "listanum = [3,1,7,4,9]\n",
    "for y in sorted(listanum):\n",
    "    # sorted passa i numeri da stampare in modo ordinato\n",
    "    print(f\"{y}\")\n",
    "print(listanum)\n",
    "# sort invece modifica proprio - ordinandola - la lista\n",
    "listanum.sort()\n",
    "print(listanum,\"\\n\")"
   ]
  },
  {
   "cell_type": "markdown",
   "metadata": {},
   "source": [
    "### dizionari\n",
    "\n",
    "array associativo: associa ad una chiave un valore"
   ]
  },
  {
   "cell_type": "code",
   "execution_count": 95,
   "metadata": {},
   "outputs": [
    {
     "name": "stdout",
     "output_type": "stream",
     "text": [
      "{'k1': 1, 'chiave2': 'pluto', 'valori': [12, 35]} \n",
      "\n",
      "chiave2\n",
      "chiave2 -> pluto\n",
      "valori\n",
      "valori -> [12, 35]\n",
      "('chiave2', 'pluto')\n",
      "('valori', [12, 35])\n",
      "chiave2 pluto\n",
      "valori [12, 35]\n"
     ]
    }
   ],
   "source": [
    "d = {}\n",
    "d['k1']=1\n",
    "d['chiave2']=\"pluto\"\n",
    "d['valori']=[12,35]\n",
    "print(d,\"\\n\")\n",
    "\n",
    "del d['k1']\n",
    "\n",
    "for x in d:\n",
    "    # stampo solo chiave\n",
    "    print(x)\n",
    "    # stampo chiave -> valore\n",
    "    print(f\"{x} -> {d[x]}\")\n",
    "    \n",
    "for x in d.items():\n",
    "    # stampa tuple chiave,valore\n",
    "    print(x)\n",
    "    \n",
    "for k,v in d.items():\n",
    "    # stampa tuple chiave,valore\n",
    "    print(k,v)"
   ]
  }
 ],
 "metadata": {
  "celltoolbar": "Raw Cell Format",
  "kernelspec": {
   "display_name": "Python 3",
   "language": "python",
   "name": "python3"
  },
  "language_info": {
   "codemirror_mode": {
    "name": "ipython",
    "version": 3
   },
   "file_extension": ".py",
   "mimetype": "text/x-python",
   "name": "python",
   "nbconvert_exporter": "python",
   "pygments_lexer": "ipython3",
   "version": "3.8.3"
  }
 },
 "nbformat": 4,
 "nbformat_minor": 4
}
